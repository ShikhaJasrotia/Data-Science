{
 "cells": [
  {
   "cell_type": "markdown",
   "metadata": {},
   "source": [
    "We have customers and the things they bought consider values , code to know which customer is closer to each other to form clusters of same kind, we should know the distance of each customer with each other to calculate this."
   ]
  },
  {
   "cell_type": "code",
   "execution_count": 8,
   "metadata": {
    "scrolled": true
   },
   "outputs": [
    {
     "name": "stdout",
     "output_type": "stream",
     "text": [
      "[[94 71 88 22 39]\n",
      " [99 16 35 57 17]\n",
      " [12 77 99 94 80]\n",
      " [76 80 82 48 66]\n",
      " [18 25 82 60 92]\n",
      " [65 84 90 74 93]\n",
      " [64 71 30 41 49]\n",
      " [46 50 57 41 91]\n",
      " [99 98 71 52 74]\n",
      " [28 58 31 62 15]]\n"
     ]
    }
   ],
   "source": [
    "import numpy as np\n",
    "x=np.random.randint(10,100,(10,5))\n",
    "print(x)"
   ]
  },
  {
   "cell_type": "code",
   "execution_count": 9,
   "metadata": {
    "scrolled": true
   },
   "outputs": [
    {
     "data": {
      "text/plain": [
       "array([[  0,   0,   0,   0,   0],\n",
       "       [ -5,  55,  53, -35,  22],\n",
       "       [ 82,  -6, -11, -72, -41],\n",
       "       [ 18,  -9,   6, -26, -27],\n",
       "       [ 76,  46,   6, -38, -53],\n",
       "       [ 29, -13,  -2, -52, -54],\n",
       "       [ 30,   0,  58, -19, -10],\n",
       "       [ 48,  21,  31, -19, -52],\n",
       "       [ -5, -27,  17, -30, -35],\n",
       "       [ 66,  13,  57, -40,  24]])"
      ]
     },
     "execution_count": 9,
     "metadata": {},
     "output_type": "execute_result"
    }
   ],
   "source": [
    "y=(x[0]-x)\n",
    "y"
   ]
  },
  {
   "cell_type": "code",
   "execution_count": 10,
   "metadata": {
    "scrolled": true
   },
   "outputs": [
    {
     "data": {
      "text/plain": [
       "array([[   0,    0,    0,    0,    0],\n",
       "       [  25, 3025, 2809, 1225,  484],\n",
       "       [6724,   36,  121, 5184, 1681],\n",
       "       [ 324,   81,   36,  676,  729],\n",
       "       [5776, 2116,   36, 1444, 2809],\n",
       "       [ 841,  169,    4, 2704, 2916],\n",
       "       [ 900,    0, 3364,  361,  100],\n",
       "       [2304,  441,  961,  361, 2704],\n",
       "       [  25,  729,  289,  900, 1225],\n",
       "       [4356,  169, 3249, 1600,  576]])"
      ]
     },
     "execution_count": 10,
     "metadata": {},
     "output_type": "execute_result"
    }
   ],
   "source": [
    "d=y*y \n",
    "d"
   ]
  },
  {
   "cell_type": "markdown",
   "metadata": {},
   "source": [
    "np.sqrt(d.sum(axis=1)[1:]).argmin() ---- Right way to find the closely related member"
   ]
  },
  {
   "cell_type": "code",
   "execution_count": 11,
   "metadata": {},
   "outputs": [
    {
     "data": {
      "text/plain": [
       "array([    0,  7568, 13746,  1846, 12181,  6634,  4725,  6771,  3168,\n",
       "        9950])"
      ]
     },
     "execution_count": 11,
     "metadata": {},
     "output_type": "execute_result"
    }
   ],
   "source": [
    "d.sum(axis=1) #cloumn wise sum"
   ]
  },
  {
   "cell_type": "code",
   "execution_count": 12,
   "metadata": {},
   "outputs": [
    {
     "data": {
      "text/plain": [
       "array([ 7568, 13746,  1846, 12181,  6634,  4725,  6771,  3168,  9950])"
      ]
     },
     "execution_count": 12,
     "metadata": {},
     "output_type": "execute_result"
    }
   ],
   "source": [
    "z=d.sum(axis=1)[1:]\n",
    "z"
   ]
  },
  {
   "cell_type": "code",
   "execution_count": 13,
   "metadata": {},
   "outputs": [
    {
     "data": {
      "text/plain": [
       "2"
      ]
     },
     "execution_count": 13,
     "metadata": {},
     "output_type": "execute_result"
    }
   ],
   "source": [
    "z.argmin()"
   ]
  },
  {
   "cell_type": "code",
   "execution_count": 15,
   "metadata": {},
   "outputs": [
    {
     "data": {
      "text/plain": [
       "1846"
      ]
     },
     "execution_count": 15,
     "metadata": {},
     "output_type": "execute_result"
    }
   ],
   "source": [
    "z[2] #this value of this customer is closer to the customer 1(index0) in our data"
   ]
  },
  {
   "cell_type": "markdown",
   "metadata": {},
   "source": [
    "Practice: #third customer is closer to which customer?"
   ]
  },
  {
   "cell_type": "code",
   "execution_count": 29,
   "metadata": {},
   "outputs": [
    {
     "data": {
      "text/plain": [
       "array([[10, 10, 13, 11],\n",
       "       [16, 16, 10, 14],\n",
       "       [10, 12, 10, 17],\n",
       "       [15, 10, 12, 15],\n",
       "       [17, 19, 15, 11],\n",
       "       [15, 18, 17, 14],\n",
       "       [17, 12, 11, 16]])"
      ]
     },
     "execution_count": 29,
     "metadata": {},
     "output_type": "execute_result"
    }
   ],
   "source": [
    "a=np.random.randint(10,20,(7,4))\n",
    "a"
   ]
  },
  {
   "cell_type": "code",
   "execution_count": 30,
   "metadata": {},
   "outputs": [
    {
     "data": {
      "text/plain": [
       "array([[ 0,  2, -3,  6],\n",
       "       [-6, -4,  0,  3],\n",
       "       [ 0,  0,  0,  0],\n",
       "       [-5,  2, -2,  2],\n",
       "       [-7, -7, -5,  6],\n",
       "       [-5, -6, -7,  3],\n",
       "       [-7,  0, -1,  1]])"
      ]
     },
     "execution_count": 30,
     "metadata": {},
     "output_type": "execute_result"
    }
   ],
   "source": [
    "b=a[2]-a\n",
    "b "
   ]
  },
  {
   "cell_type": "code",
   "execution_count": 31,
   "metadata": {},
   "outputs": [
    {
     "data": {
      "text/plain": [
       "array([[ 0,  4,  9, 36],\n",
       "       [36, 16,  0,  9],\n",
       "       [ 0,  0,  0,  0],\n",
       "       [25,  4,  4,  4],\n",
       "       [49, 49, 25, 36],\n",
       "       [25, 36, 49,  9],\n",
       "       [49,  0,  1,  1]])"
      ]
     },
     "execution_count": 31,
     "metadata": {},
     "output_type": "execute_result"
    }
   ],
   "source": [
    "d=b*b\n",
    "d"
   ]
  },
  {
   "cell_type": "code",
   "execution_count": 34,
   "metadata": {},
   "outputs": [
    {
     "data": {
      "text/plain": [
       "array([ 61,   0,  37, 159, 119,  51])"
      ]
     },
     "execution_count": 34,
     "metadata": {},
     "output_type": "execute_result"
    }
   ],
   "source": [
    "z=d.sum(axis=1)[1:]\n",
    "z"
   ]
  },
  {
   "cell_type": "code",
   "execution_count": 33,
   "metadata": {},
   "outputs": [
    {
     "data": {
      "text/plain": [
       "1"
      ]
     },
     "execution_count": 33,
     "metadata": {},
     "output_type": "execute_result"
    }
   ],
   "source": [
    "z.argmin()"
   ]
  },
  {
   "cell_type": "code",
   "execution_count": 35,
   "metadata": {},
   "outputs": [
    {
     "data": {
      "text/plain": [
       "0"
      ]
     },
     "execution_count": 35,
     "metadata": {},
     "output_type": "execute_result"
    }
   ],
   "source": [
    "z[1] #first customer is closely related to the third customer"
   ]
  },
  {
   "cell_type": "markdown",
   "metadata": {},
   "source": [
    "Choose to random values from matrix to form two clusters"
   ]
  },
  {
   "cell_type": "code",
   "execution_count": 36,
   "metadata": {},
   "outputs": [
    {
     "data": {
      "text/plain": [
       "array([[9, 7, 3, 1, 1],\n",
       "       [9, 1, 6, 8, 3],\n",
       "       [6, 4, 4, 3, 8],\n",
       "       [1, 1, 7, 7, 6],\n",
       "       [5, 1, 0, 4, 8],\n",
       "       [8, 1, 9, 4, 2],\n",
       "       [7, 2, 8, 6, 4],\n",
       "       [5, 9, 7, 8, 6],\n",
       "       [8, 8, 8, 7, 8],\n",
       "       [7, 8, 3, 0, 2]])"
      ]
     },
     "execution_count": 36,
     "metadata": {},
     "output_type": "execute_result"
    }
   ],
   "source": [
    "x=np.random.randint(0,10,(10,5))\n",
    "x"
   ]
  },
  {
   "cell_type": "code",
   "execution_count": 37,
   "metadata": {},
   "outputs": [
    {
     "name": "stdout",
     "output_type": "stream",
     "text": [
      "[6 4 4 3 8]\n",
      "[5 1 0 4 8]\n"
     ]
    }
   ],
   "source": [
    "r1=x[2]\n",
    "r2=x[4]\n",
    "print(r1)\n",
    "print(r2)"
   ]
  },
  {
   "cell_type": "code",
   "execution_count": 38,
   "metadata": {},
   "outputs": [
    {
     "name": "stdout",
     "output_type": "stream",
     "text": [
      "[8.48528137 8.48528137 0.         7.93725393 5.19615242 8.66025404\n",
      " 6.78232998 8.         7.21110255 7.93725393]\n",
      "[10.90871211  9.64365076  5.19615242  8.83176087  0.         11.22497216\n",
      "  9.43398113 11.53256259 11.44552314 10.67707825]\n"
     ]
    }
   ],
   "source": [
    "d1=np.sqrt(((r1-x)*(r1-x)).sum(axis=1))\n",
    "print(d1)\n",
    "d2=np.sqrt(((r2-x)*(r2-x)).sum(axis=1))\n",
    "print(d2)"
   ]
  },
  {
   "cell_type": "code",
   "execution_count": 39,
   "metadata": {},
   "outputs": [
    {
     "data": {
      "text/plain": [
       "array([ True,  True,  True,  True, False,  True,  True,  True,  True,\n",
       "        True])"
      ]
     },
     "execution_count": 39,
     "metadata": {},
     "output_type": "execute_result"
    }
   ],
   "source": [
    "d1<d2"
   ]
  },
  {
   "cell_type": "code",
   "execution_count": 40,
   "metadata": {},
   "outputs": [
    {
     "data": {
      "text/plain": [
       "array([10.90871211,  9.64365076,  5.19615242,  8.83176087,  0.        ,\n",
       "       11.22497216,  9.43398113, 11.53256259, 11.44552314, 10.67707825])"
      ]
     },
     "execution_count": 40,
     "metadata": {},
     "output_type": "execute_result"
    }
   ],
   "source": [
    "d2"
   ]
  },
  {
   "cell_type": "markdown",
   "metadata": {},
   "source": [
    "Quantiles problem, dividing into quaters, to know the outliers from a given set of data"
   ]
  },
  {
   "cell_type": "code",
   "execution_count": 41,
   "metadata": {
    "scrolled": true
   },
   "outputs": [
    {
     "data": {
      "text/plain": [
       "array([[54, 21, 47],\n",
       "       [63, 73, 94],\n",
       "       [60, 75, 34],\n",
       "       [79, 24, 44],\n",
       "       [49, 13, 25],\n",
       "       [55, 47, 29],\n",
       "       [72, 24, 46],\n",
       "       [45, 54, 82],\n",
       "       [76, 69, 83],\n",
       "       [69, 14, 52]])"
      ]
     },
     "execution_count": 41,
     "metadata": {},
     "output_type": "execute_result"
    }
   ],
   "source": [
    "x=np.random.randint(10,100,(10,3))\n",
    "x"
   ]
  },
  {
   "cell_type": "code",
   "execution_count": 42,
   "metadata": {},
   "outputs": [
    {
     "name": "stdout",
     "output_type": "stream",
     "text": [
      "[54 63 60 79 49 55 72 45 76 69]\n",
      "[21 73 75 24 13 47 24 54 69 14]\n",
      "[47 94 34 44 25 29 46 82 83 52]\n"
     ]
    }
   ],
   "source": [
    "c1=x[:,0]\n",
    "c2=x[:,1]\n",
    "c3=x[:,2]\n",
    "print(c1)\n",
    "print(c2)\n",
    "print(c3)"
   ]
  },
  {
   "cell_type": "code",
   "execution_count": 43,
   "metadata": {},
   "outputs": [
    {
     "name": "stdout",
     "output_type": "stream",
     "text": [
      "54.25\n",
      "71.25\n",
      "17.0\n",
      "178.125\n",
      "-27.125\n"
     ]
    }
   ],
   "source": [
    "q1_c1=np.quantile(c1,0.25)\n",
    "q3_c1=np.quantile(c1,0.75)\n",
    "iqr_c1=q3_c1-q1_c1\n",
    "utv_c1=q3_c1+1.5*(q3_c1)\n",
    "ltv_c1=q1_c1-1.5*(q1_c1)\n",
    "print(q1_c1)\n",
    "print(q3_c1)\n",
    "print(iqr_c1)\n",
    "print(utv_c1)\n",
    "print(ltv_c1)"
   ]
  },
  {
   "cell_type": "code",
   "execution_count": 44,
   "metadata": {},
   "outputs": [
    {
     "data": {
      "text/plain": [
       "array([False, False, False, False, False, False, False, False, False,\n",
       "       False])"
      ]
     },
     "execution_count": 44,
     "metadata": {},
     "output_type": "execute_result"
    }
   ],
   "source": [
    "c1>utv_c1"
   ]
  },
  {
   "cell_type": "code",
   "execution_count": 45,
   "metadata": {},
   "outputs": [
    {
     "data": {
      "text/plain": [
       "array([False, False, False, False, False, False, False, False, False,\n",
       "       False])"
      ]
     },
     "execution_count": 45,
     "metadata": {},
     "output_type": "execute_result"
    }
   ],
   "source": [
    "c1<ltv_c1"
   ]
  },
  {
   "cell_type": "code",
   "execution_count": 46,
   "metadata": {},
   "outputs": [
    {
     "name": "stdout",
     "output_type": "stream",
     "text": [
      "21.75\n",
      "65.25\n",
      "43.5\n",
      "169.125\n",
      "21.625\n"
     ]
    }
   ],
   "source": [
    "q1_c2=np.quantile(c2,0.25)\n",
    "q3_c2=np.quantile(c2,0.75)\n",
    "iqr_c2=q3_c2-q1_c2\n",
    "utv_c2=q3_c1+1.5*(q3_c2)\n",
    "ltv_c2=q1_c1-1.5*(q1_c2)\n",
    "print(q1_c2)\n",
    "print(q3_c2)\n",
    "print(iqr_c2)\n",
    "print(utv_c2)\n",
    "print(ltv_c2)"
   ]
  },
  {
   "cell_type": "code",
   "execution_count": 47,
   "metadata": {},
   "outputs": [
    {
     "data": {
      "text/plain": [
       "array([False, False, False, False, False, False, False, False, False,\n",
       "       False])"
      ]
     },
     "execution_count": 47,
     "metadata": {},
     "output_type": "execute_result"
    }
   ],
   "source": [
    "c2>utv_c2"
   ]
  },
  {
   "cell_type": "code",
   "execution_count": 48,
   "metadata": {},
   "outputs": [
    {
     "data": {
      "text/plain": [
       "array([ True, False, False, False,  True, False, False, False, False,\n",
       "        True])"
      ]
     },
     "execution_count": 48,
     "metadata": {},
     "output_type": "execute_result"
    }
   ],
   "source": [
    "c2<ltv_c2"
   ]
  },
  {
   "cell_type": "markdown",
   "metadata": {},
   "source": [
    "Coefficient--Correlation"
   ]
  },
  {
   "cell_type": "code",
   "execution_count": 49,
   "metadata": {
    "scrolled": true
   },
   "outputs": [
    {
     "data": {
      "text/plain": [
       "array([[9, 9],\n",
       "       [3, 5],\n",
       "       [9, 9],\n",
       "       [8, 6],\n",
       "       [0, 1],\n",
       "       [2, 4],\n",
       "       [0, 6],\n",
       "       [4, 6],\n",
       "       [8, 6],\n",
       "       [7, 9]])"
      ]
     },
     "execution_count": 49,
     "metadata": {},
     "output_type": "execute_result"
    }
   ],
   "source": [
    "x=np.random.randint(0,10,(10,2))\n",
    "x"
   ]
  },
  {
   "cell_type": "code",
   "execution_count": 50,
   "metadata": {},
   "outputs": [
    {
     "name": "stdout",
     "output_type": "stream",
     "text": [
      "[9 3 9 8 0 2 0 4 8 7]\n",
      "[9 5 9 6 1 4 6 6 6 9]\n"
     ]
    }
   ],
   "source": [
    "c1=x[:,0]\n",
    "c2=x[:,1]\n",
    "\n",
    "print(c1)\n",
    "print(c2)"
   ]
  },
  {
   "cell_type": "code",
   "execution_count": 51,
   "metadata": {},
   "outputs": [
    {
     "data": {
      "text/plain": [
       "63.0"
      ]
     },
     "execution_count": 51,
     "metadata": {},
     "output_type": "execute_result"
    }
   ],
   "source": [
    "top=((c1-c1.mean())*(c2-c2.mean())).sum()\n",
    "top"
   ]
  },
  {
   "cell_type": "code",
   "execution_count": 52,
   "metadata": {},
   "outputs": [
    {
     "data": {
      "text/plain": [
       "81.94022211344073"
      ]
     },
     "execution_count": 52,
     "metadata": {},
     "output_type": "execute_result"
    }
   ],
   "source": [
    "bot=np.sqrt((((c1-c1.mean())**2).sum())*(((c2-c2.mean())**2).sum()))\n",
    "bot"
   ]
  },
  {
   "cell_type": "code",
   "execution_count": 53,
   "metadata": {},
   "outputs": [
    {
     "data": {
      "text/plain": [
       "0.7688531758283585"
      ]
     },
     "execution_count": 53,
     "metadata": {},
     "output_type": "execute_result"
    }
   ],
   "source": [
    "top/bot"
   ]
  },
  {
   "cell_type": "code",
   "execution_count": 54,
   "metadata": {},
   "outputs": [
    {
     "data": {
      "text/plain": [
       "array([[1.        , 0.76885318],\n",
       "       [0.76885318, 1.        ]])"
      ]
     },
     "execution_count": 54,
     "metadata": {},
     "output_type": "execute_result"
    }
   ],
   "source": [
    "np.corrcoef(c1,c2)"
   ]
  },
  {
   "cell_type": "markdown",
   "metadata": {},
   "source": [
    "Basic Mathematics( Descriptive Statistics)"
   ]
  },
  {
   "cell_type": "code",
   "execution_count": 57,
   "metadata": {},
   "outputs": [
    {
     "data": {
      "text/plain": [
       "array([1, 2, 3, 4])"
      ]
     },
     "execution_count": 57,
     "metadata": {},
     "output_type": "execute_result"
    }
   ],
   "source": [
    "x=np.array([1,2,3,4])\n",
    "x"
   ]
  },
  {
   "cell_type": "code",
   "execution_count": 58,
   "metadata": {},
   "outputs": [
    {
     "data": {
      "text/plain": [
       "2.5"
      ]
     },
     "execution_count": 58,
     "metadata": {},
     "output_type": "execute_result"
    }
   ],
   "source": [
    "x.mean()"
   ]
  },
  {
   "cell_type": "code",
   "execution_count": 59,
   "metadata": {},
   "outputs": [
    {
     "data": {
      "text/plain": [
       "1.118033988749895"
      ]
     },
     "execution_count": 59,
     "metadata": {},
     "output_type": "execute_result"
    }
   ],
   "source": [
    "x.std()"
   ]
  },
  {
   "cell_type": "code",
   "execution_count": 60,
   "metadata": {
    "scrolled": true
   },
   "outputs": [
    {
     "data": {
      "text/plain": [
       "1.25"
      ]
     },
     "execution_count": 60,
     "metadata": {},
     "output_type": "execute_result"
    }
   ],
   "source": [
    "x.var()"
   ]
  },
  {
   "cell_type": "code",
   "execution_count": 61,
   "metadata": {},
   "outputs": [],
   "source": [
    "x=np.random.randint(0,10,(5,2))"
   ]
  },
  {
   "cell_type": "code",
   "execution_count": 62,
   "metadata": {},
   "outputs": [],
   "source": [
    "c1=x[:,0]\n",
    "c2=x[:,1]"
   ]
  },
  {
   "cell_type": "code",
   "execution_count": 63,
   "metadata": {},
   "outputs": [
    {
     "data": {
      "text/plain": [
       "array([[1.        , 0.35993702],\n",
       "       [0.35993702, 1.        ]])"
      ]
     },
     "execution_count": 63,
     "metadata": {},
     "output_type": "execute_result"
    }
   ],
   "source": [
    "np.corrcoef(x[:,0],x[:,1])"
   ]
  }
 ],
 "metadata": {
  "kernelspec": {
   "display_name": "Python 3",
   "language": "python",
   "name": "python3"
  },
  "language_info": {
   "codemirror_mode": {
    "name": "ipython",
    "version": 3
   },
   "file_extension": ".py",
   "mimetype": "text/x-python",
   "name": "python",
   "nbconvert_exporter": "python",
   "pygments_lexer": "ipython3",
   "version": "3.7.3"
  }
 },
 "nbformat": 4,
 "nbformat_minor": 2
}
