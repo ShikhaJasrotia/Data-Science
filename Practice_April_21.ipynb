{
 "cells": [
  {
   "cell_type": "markdown",
   "metadata": {},
   "source": [
    "NUMPY"
   ]
  },
  {
   "cell_type": "code",
   "execution_count": 1,
   "metadata": {},
   "outputs": [],
   "source": [
    "a=[1,2,3]"
   ]
  },
  {
   "cell_type": "code",
   "execution_count": 2,
   "metadata": {},
   "outputs": [],
   "source": [
    "import numpy as np\n",
    "a=np.array(a)"
   ]
  },
  {
   "cell_type": "code",
   "execution_count": 3,
   "metadata": {
    "scrolled": true
   },
   "outputs": [
    {
     "data": {
      "text/plain": [
       "numpy.ndarray"
      ]
     },
     "execution_count": 3,
     "metadata": {},
     "output_type": "execute_result"
    }
   ],
   "source": [
    "type(a)"
   ]
  },
  {
   "cell_type": "code",
   "execution_count": 4,
   "metadata": {},
   "outputs": [
    {
     "data": {
      "text/plain": [
       "array([0.5, 1. , 1.5])"
      ]
     },
     "execution_count": 4,
     "metadata": {},
     "output_type": "execute_result"
    }
   ],
   "source": [
    "a/2"
   ]
  },
  {
   "cell_type": "code",
   "execution_count": 5,
   "metadata": {},
   "outputs": [
    {
     "data": {
      "text/plain": [
       "array([1, 2, 3])"
      ]
     },
     "execution_count": 5,
     "metadata": {},
     "output_type": "execute_result"
    }
   ],
   "source": [
    "a"
   ]
  },
  {
   "cell_type": "markdown",
   "metadata": {},
   "source": [
    "Functions"
   ]
  },
  {
   "cell_type": "code",
   "execution_count": 6,
   "metadata": {},
   "outputs": [
    {
     "data": {
      "text/plain": [
       "array([0, 1, 2, 3, 4, 5, 6, 7, 8, 9])"
      ]
     },
     "execution_count": 6,
     "metadata": {},
     "output_type": "execute_result"
    }
   ],
   "source": [
    "np.arange(0,10)"
   ]
  },
  {
   "cell_type": "code",
   "execution_count": 7,
   "metadata": {},
   "outputs": [
    {
     "data": {
      "text/plain": [
       "array([1., 1., 1., 1., 1., 1., 1., 1., 1., 1.])"
      ]
     },
     "execution_count": 7,
     "metadata": {},
     "output_type": "execute_result"
    }
   ],
   "source": [
    "np.ones(10)"
   ]
  },
  {
   "cell_type": "code",
   "execution_count": 8,
   "metadata": {},
   "outputs": [
    {
     "data": {
      "text/plain": [
       "array([0., 0., 0., 0., 0., 0., 0., 0., 0., 0.])"
      ]
     },
     "execution_count": 8,
     "metadata": {},
     "output_type": "execute_result"
    }
   ],
   "source": [
    "np.zeros(10)"
   ]
  },
  {
   "cell_type": "code",
   "execution_count": 9,
   "metadata": {},
   "outputs": [
    {
     "data": {
      "text/plain": [
       "array([[1., 1., 1., 1., 1.],\n",
       "       [1., 1., 1., 1., 1.],\n",
       "       [1., 1., 1., 1., 1.],\n",
       "       [1., 1., 1., 1., 1.],\n",
       "       [1., 1., 1., 1., 1.]])"
      ]
     },
     "execution_count": 9,
     "metadata": {},
     "output_type": "execute_result"
    }
   ],
   "source": [
    "np.ones((5,5))"
   ]
  },
  {
   "cell_type": "code",
   "execution_count": 10,
   "metadata": {},
   "outputs": [
    {
     "data": {
      "text/plain": [
       "array([[0., 0., 0., 0., 0.],\n",
       "       [0., 0., 0., 0., 0.],\n",
       "       [0., 0., 0., 0., 0.],\n",
       "       [0., 0., 0., 0., 0.]])"
      ]
     },
     "execution_count": 10,
     "metadata": {},
     "output_type": "execute_result"
    }
   ],
   "source": [
    "np.zeros((4,5))"
   ]
  },
  {
   "cell_type": "markdown",
   "metadata": {},
   "source": [
    "#Interview question"
   ]
  },
  {
   "cell_type": "code",
   "execution_count": 11,
   "metadata": {},
   "outputs": [],
   "source": [
    "a=[1,2,3,4]\n",
    "b=[1,'analytics','data']"
   ]
  },
  {
   "cell_type": "code",
   "execution_count": 12,
   "metadata": {},
   "outputs": [],
   "source": [
    "x=np.array(a)\n",
    "y=np.array(b)"
   ]
  },
  {
   "cell_type": "code",
   "execution_count": 13,
   "metadata": {
    "scrolled": true
   },
   "outputs": [
    {
     "name": "stdout",
     "output_type": "stream",
     "text": [
      "<class 'numpy.ndarray'>\n",
      "<class 'numpy.ndarray'>\n"
     ]
    }
   ],
   "source": [
    "print(type(x))\n",
    "print(type(y))"
   ]
  },
  {
   "cell_type": "code",
   "execution_count": 14,
   "metadata": {},
   "outputs": [
    {
     "data": {
      "text/plain": [
       "(int, int, int, int)"
      ]
     },
     "execution_count": 14,
     "metadata": {},
     "output_type": "execute_result"
    }
   ],
   "source": [
    "type(a[0]),type(a[1]),type(a[2]),type(a[3])"
   ]
  },
  {
   "cell_type": "code",
   "execution_count": 15,
   "metadata": {},
   "outputs": [
    {
     "data": {
      "text/plain": [
       "(numpy.int32, numpy.int32, numpy.int32, numpy.int32)"
      ]
     },
     "execution_count": 15,
     "metadata": {},
     "output_type": "execute_result"
    }
   ],
   "source": [
    "type(x[0]),type(x[1]),type(x[2]),type(x[3])"
   ]
  },
  {
   "cell_type": "code",
   "execution_count": 17,
   "metadata": {},
   "outputs": [
    {
     "data": {
      "text/plain": [
       "(int, str, str)"
      ]
     },
     "execution_count": 17,
     "metadata": {},
     "output_type": "execute_result"
    }
   ],
   "source": [
    "type(b[0]),type(b[1]),type(b[2])"
   ]
  },
  {
   "cell_type": "code",
   "execution_count": 19,
   "metadata": {},
   "outputs": [
    {
     "data": {
      "text/plain": [
       "(numpy.str_, numpy.str_, numpy.str_)"
      ]
     },
     "execution_count": 19,
     "metadata": {},
     "output_type": "execute_result"
    }
   ],
   "source": [
    "type(y[0]),type(y[1]),type(y[2]) "
   ]
  },
  {
   "cell_type": "markdown",
   "metadata": {},
   "source": [
    "Set 2 : Random Functions"
   ]
  },
  {
   "cell_type": "code",
   "execution_count": 20,
   "metadata": {
    "scrolled": true
   },
   "outputs": [
    {
     "data": {
      "text/plain": [
       "9"
      ]
     },
     "execution_count": 20,
     "metadata": {},
     "output_type": "execute_result"
    }
   ],
   "source": [
    "np.random.randint(0,10)"
   ]
  },
  {
   "cell_type": "code",
   "execution_count": 22,
   "metadata": {},
   "outputs": [
    {
     "data": {
      "text/plain": [
       "array([7, 5, 1])"
      ]
     },
     "execution_count": 22,
     "metadata": {},
     "output_type": "execute_result"
    }
   ],
   "source": [
    "np.random.randint(0,10,3)"
   ]
  },
  {
   "cell_type": "code",
   "execution_count": 23,
   "metadata": {},
   "outputs": [
    {
     "data": {
      "text/plain": [
       "array([[8, 6, 4],\n",
       "       [1, 8, 5]])"
      ]
     },
     "execution_count": 23,
     "metadata": {},
     "output_type": "execute_result"
    }
   ],
   "source": [
    "np.random.randint(1,9,(2,3))"
   ]
  },
  {
   "cell_type": "code",
   "execution_count": 24,
   "metadata": {
    "scrolled": true
   },
   "outputs": [
    {
     "data": {
      "text/plain": [
       "array([-0.83065203, -1.22137679,  0.46751577, -0.01296096,  0.26224683,\n",
       "        0.49787604, -0.9005339 ])"
      ]
     },
     "execution_count": 24,
     "metadata": {},
     "output_type": "execute_result"
    }
   ],
   "source": [
    "np.random.randn(7)"
   ]
  },
  {
   "cell_type": "markdown",
   "metadata": {},
   "source": [
    "Set 2b"
   ]
  },
  {
   "cell_type": "code",
   "execution_count": 30,
   "metadata": {},
   "outputs": [
    {
     "data": {
      "text/plain": [
       "array([1, 1, 9, 3, 1])"
      ]
     },
     "execution_count": 30,
     "metadata": {},
     "output_type": "execute_result"
    }
   ],
   "source": [
    "x=np.random.randint(0,10,5)\n",
    "x"
   ]
  },
  {
   "cell_type": "code",
   "execution_count": 31,
   "metadata": {},
   "outputs": [
    {
     "data": {
      "text/plain": [
       "1"
      ]
     },
     "execution_count": 31,
     "metadata": {},
     "output_type": "execute_result"
    }
   ],
   "source": [
    "x.min()"
   ]
  },
  {
   "cell_type": "code",
   "execution_count": 33,
   "metadata": {},
   "outputs": [
    {
     "data": {
      "text/plain": [
       "9"
      ]
     },
     "execution_count": 33,
     "metadata": {},
     "output_type": "execute_result"
    }
   ],
   "source": [
    "x.max()"
   ]
  },
  {
   "cell_type": "code",
   "execution_count": 34,
   "metadata": {},
   "outputs": [
    {
     "data": {
      "text/plain": [
       "2"
      ]
     },
     "execution_count": 34,
     "metadata": {},
     "output_type": "execute_result"
    }
   ],
   "source": [
    "x.argmax() #index of the max value"
   ]
  },
  {
   "cell_type": "code",
   "execution_count": 36,
   "metadata": {
    "scrolled": true
   },
   "outputs": [
    {
     "data": {
      "text/plain": [
       "0"
      ]
     },
     "execution_count": 36,
     "metadata": {},
     "output_type": "execute_result"
    }
   ],
   "source": [
    "x.argmin()"
   ]
  },
  {
   "cell_type": "markdown",
   "metadata": {},
   "source": [
    "lift"
   ]
  },
  {
   "cell_type": "code",
   "execution_count": 37,
   "metadata": {
    "scrolled": true
   },
   "outputs": [
    {
     "data": {
      "text/plain": [
       "array([10, 19, 13, 11, 18, 11, 14, 13, 17, 18, 18, 15, 12, 16, 18, 18, 14,\n",
       "       10, 18, 13, 18, 16, 10, 14, 11, 18, 19, 17, 19, 16, 15, 19, 19, 17,\n",
       "       10, 16, 14, 16, 19, 13, 11, 11, 13, 15, 17, 17, 15, 19, 15, 16, 11,\n",
       "       16, 19, 14, 15, 13, 10, 14, 11, 18, 14, 12, 17, 13, 11, 10, 10, 17,\n",
       "       13, 17, 17, 17, 19, 15, 10, 10, 13, 19, 19, 10, 19, 12, 16, 14, 11,\n",
       "       13, 14, 16, 12, 11, 11, 18, 17, 18, 19, 17, 17, 16, 13, 19])"
      ]
     },
     "execution_count": 37,
     "metadata": {},
     "output_type": "execute_result"
    }
   ],
   "source": [
    "f=np.random.randint(10,20,100)\n",
    "f"
   ]
  },
  {
   "cell_type": "code",
   "execution_count": 38,
   "metadata": {},
   "outputs": [
    {
     "data": {
      "text/plain": [
       "array([12, 15, 17, 12, 10, 17, 17, 17, 13, 11, 14, 11, 11, 13, 13, 10, 10,\n",
       "       13, 18, 14, 10, 16, 12, 18, 11, 15, 14, 18, 17, 12, 17, 12, 19, 18,\n",
       "       10, 12, 11, 17, 11, 18, 14, 16, 19, 10, 15, 13, 13, 16, 13, 13, 15,\n",
       "       13, 13, 11, 15, 16, 12, 16, 14, 19, 10, 12, 16, 10, 12, 16, 11, 12,\n",
       "       19, 14, 18, 19, 12, 15, 19, 13, 11, 14, 14, 18, 18, 13, 18, 13, 15,\n",
       "       11, 14, 13, 11, 17, 14, 17, 14, 13, 11, 19, 18, 19, 13, 14])"
      ]
     },
     "execution_count": 38,
     "metadata": {},
     "output_type": "execute_result"
    }
   ],
   "source": [
    "s=np.random.randint(10,20,100)\n",
    "s"
   ]
  },
  {
   "cell_type": "code",
   "execution_count": 39,
   "metadata": {
    "scrolled": true
   },
   "outputs": [
    {
     "data": {
      "text/plain": [
       "1488"
      ]
     },
     "execution_count": 39,
     "metadata": {},
     "output_type": "execute_result"
    }
   ],
   "source": [
    "f.sum()"
   ]
  },
  {
   "cell_type": "code",
   "execution_count": 40,
   "metadata": {},
   "outputs": [
    {
     "data": {
      "text/plain": [
       "1422"
      ]
     },
     "execution_count": 40,
     "metadata": {},
     "output_type": "execute_result"
    }
   ],
   "source": [
    "s.sum()"
   ]
  },
  {
   "cell_type": "code",
   "execution_count": 41,
   "metadata": {},
   "outputs": [
    {
     "data": {
      "text/plain": [
       "4.435483870967742"
      ]
     },
     "execution_count": 41,
     "metadata": {},
     "output_type": "execute_result"
    }
   ],
   "source": [
    "x=((f.sum()-s.sum())/f.sum())*100  #lift\n",
    "x"
   ]
  },
  {
   "cell_type": "code",
   "execution_count": 42,
   "metadata": {},
   "outputs": [],
   "source": [
    "#### Basket Values= Sales/Transactions\\\n",
    "#### Basket Size= Units/Transactions"
   ]
  },
  {
   "cell_type": "code",
   "execution_count": 43,
   "metadata": {},
   "outputs": [],
   "source": [
    "s=np.random.randint(100,600,100)\n",
    "u=np.random.randint(10,60,100)\n",
    "t=np.random.randint(10,20,100)"
   ]
  },
  {
   "cell_type": "code",
   "execution_count": 49,
   "metadata": {},
   "outputs": [
    {
     "data": {
      "text/plain": [
       "array([27.21428571, 22.91666667, 38.28571429, 18.9       ,  7.42105263,\n",
       "       15.1       , 33.08333333, 13.63157895, 27.75      , 27.08333333,\n",
       "       16.26315789, 22.33333333, 58.9       , 20.1875    , 59.7       ,\n",
       "       36.125     , 15.15384615, 35.69230769, 18.33333333, 34.14285714,\n",
       "       24.73333333, 33.4375    , 16.3125    , 29.26315789, 48.91666667,\n",
       "       10.64285714, 22.29411765, 32.83333333, 48.5       , 14.41666667,\n",
       "        9.0625    ,  7.38888889, 16.5       , 18.78947368, 16.17647059,\n",
       "       54.8       , 20.5       , 30.47058824, 24.45454545, 38.42857143,\n",
       "       12.25      , 50.27272727, 12.36842105, 27.33333333, 27.6       ,\n",
       "       25.        , 29.18181818, 29.82352941, 12.68421053, 14.52631579,\n",
       "       31.8       ,  8.75      , 51.27272727, 33.        , 21.6875    ,\n",
       "       10.73333333,  6.89473684,  8.46666667, 21.        , 31.        ,\n",
       "       35.54545455, 25.86666667, 12.70588235,  7.76470588, 13.4       ,\n",
       "       44.83333333, 32.92307692, 26.7       , 52.90909091, 28.11764706,\n",
       "       27.        , 12.8       ,  8.375     , 11.26315789, 27.8125    ,\n",
       "       28.7       , 21.3125    , 30.66666667, 45.6       , 26.6875    ,\n",
       "       26.85714286, 18.        , 14.44444444, 21.05882353, 13.16666667,\n",
       "       17.76923077, 21.8       , 23.76470588, 19.42105263, 34.41176471,\n",
       "       12.15789474, 24.84615385, 29.        , 28.66666667, 15.85714286,\n",
       "        8.8125    , 18.5       , 18.90909091, 40.81818182, 15.75      ])"
      ]
     },
     "execution_count": 49,
     "metadata": {},
     "output_type": "execute_result"
    }
   ],
   "source": [
    "bv=s/t\n",
    "bv"
   ]
  },
  {
   "cell_type": "code",
   "execution_count": 50,
   "metadata": {},
   "outputs": [
    {
     "data": {
      "text/plain": [
       "array([4.07142857, 0.83333333, 1.28571429, 2.9       , 0.63157895,\n",
       "       1.1       , 4.75      , 2.36842105, 1.8125    , 4.16666667,\n",
       "       2.47368421, 2.73333333, 4.1       , 2.125     , 3.7       ,\n",
       "       1.5       , 4.46153846, 1.38461538, 1.58333333, 2.21428571,\n",
       "       0.66666667, 3.375     , 1.4375    , 1.84210526, 2.41666667,\n",
       "       1.14285714, 3.17647059, 2.16666667, 2.16666667, 3.83333333,\n",
       "       1.8125    , 1.72222222, 4.08333333, 1.89473684, 3.23529412,\n",
       "       2.3       , 3.21428571, 0.88235294, 4.54545455, 2.42857143,\n",
       "       1.33333333, 4.09090909, 2.89473684, 2.61111111, 2.66666667,\n",
       "       2.88235294, 4.63636364, 2.58823529, 2.31578947, 1.26315789,\n",
       "       4.6       , 0.6875    , 2.09090909, 2.15384615, 1.8125    ,\n",
       "       2.06666667, 2.21052632, 1.46666667, 1.0625    , 0.72222222,\n",
       "       5.09090909, 2.46666667, 1.70588235, 3.29411765, 2.3       ,\n",
       "       1.83333333, 3.23076923, 3.6       , 1.72727273, 1.29411765,\n",
       "       2.41666667, 2.9       , 2.1875    , 0.78947368, 1.5       ,\n",
       "       3.4       , 1.5       , 1.33333333, 2.3       , 2.875     ,\n",
       "       3.42857143, 2.94117647, 2.27777778, 1.58823529, 1.        ,\n",
       "       3.23076923, 2.13333333, 0.82352941, 2.84210526, 3.        ,\n",
       "       2.57894737, 2.76923077, 2.54545455, 3.33333333, 1.21428571,\n",
       "       1.375     , 3.4       , 2.81818182, 1.18181818, 4.5       ])"
      ]
     },
     "execution_count": 50,
     "metadata": {},
     "output_type": "execute_result"
    }
   ],
   "source": [
    "bs=u/t\n",
    "bs"
   ]
  },
  {
   "cell_type": "code",
   "execution_count": 51,
   "metadata": {},
   "outputs": [
    {
     "name": "stdout",
     "output_type": "stream",
     "text": [
      "56\n",
      "60\n",
      "6.894736842105263\n",
      "5.090909090909091\n"
     ]
    }
   ],
   "source": [
    "print(bv.argmin())\n",
    "print(bs.argmax())\n",
    "print(bv.min())\n",
    "print(bs.max())"
   ]
  },
  {
   "cell_type": "code",
   "execution_count": 52,
   "metadata": {},
   "outputs": [
    {
     "data": {
      "text/plain": [
       "6.894736842105263"
      ]
     },
     "execution_count": 52,
     "metadata": {},
     "output_type": "execute_result"
    }
   ],
   "source": [
    "bv[56]"
   ]
  },
  {
   "cell_type": "markdown",
   "metadata": {},
   "source": [
    "Set 4 Functions"
   ]
  },
  {
   "cell_type": "code",
   "execution_count": 53,
   "metadata": {
    "scrolled": true
   },
   "outputs": [
    {
     "data": {
      "text/plain": [
       "array([[1, 2, 3],\n",
       "       [4, 5, 6],\n",
       "       [7, 8, 9]])"
      ]
     },
     "execution_count": 53,
     "metadata": {},
     "output_type": "execute_result"
    }
   ],
   "source": [
    "p=np.array([[1,2,3],[4,5,6],[7,8,9]])\n",
    "p"
   ]
  },
  {
   "cell_type": "code",
   "execution_count": 54,
   "metadata": {},
   "outputs": [
    {
     "data": {
      "text/plain": [
       "5.0"
      ]
     },
     "execution_count": 54,
     "metadata": {},
     "output_type": "execute_result"
    }
   ],
   "source": [
    "p.mean()"
   ]
  },
  {
   "cell_type": "code",
   "execution_count": 55,
   "metadata": {
    "scrolled": true
   },
   "outputs": [
    {
     "data": {
      "text/plain": [
       "array([4., 5., 6.])"
      ]
     },
     "execution_count": 55,
     "metadata": {},
     "output_type": "execute_result"
    }
   ],
   "source": [
    "p.mean(axis=0) #row"
   ]
  },
  {
   "cell_type": "code",
   "execution_count": 57,
   "metadata": {
    "scrolled": true
   },
   "outputs": [
    {
     "data": {
      "text/plain": [
       "array([2., 5., 8.])"
      ]
     },
     "execution_count": 57,
     "metadata": {},
     "output_type": "execute_result"
    }
   ],
   "source": [
    "p.mean(axis=1) #column"
   ]
  },
  {
   "cell_type": "markdown",
   "metadata": {},
   "source": [
    "Set 6"
   ]
  },
  {
   "cell_type": "code",
   "execution_count": 77,
   "metadata": {},
   "outputs": [
    {
     "data": {
      "text/plain": [
       "array([9, 1, 2, 9, 5, 1, 1, 3, 9, 3, 1, 7, 9, 8, 7, 9, 9, 5, 8, 3, 7, 6,\n",
       "       3, 2, 1, 2, 2, 7, 8, 8, 2, 1, 3, 1, 2, 4, 9, 9, 3, 2, 8, 4, 4, 6,\n",
       "       4, 4, 6, 3, 8, 4, 9, 2, 7, 9, 6, 4, 6, 9, 9, 1, 3, 3, 5, 9, 2, 7,\n",
       "       8, 6, 7, 8, 1, 4, 1, 2, 6, 5, 3, 2, 7, 5, 7, 6, 5, 1, 8, 4, 7, 2,\n",
       "       3, 2, 3, 9, 6, 3, 4, 6, 5, 7, 4, 7])"
      ]
     },
     "execution_count": 77,
     "metadata": {},
     "output_type": "execute_result"
    }
   ],
   "source": [
    "p=np.random.randint(1,10,100)\n",
    "p"
   ]
  },
  {
   "cell_type": "code",
   "execution_count": 78,
   "metadata": {},
   "outputs": [
    {
     "data": {
      "text/plain": [
       "(100,)"
      ]
     },
     "execution_count": 78,
     "metadata": {},
     "output_type": "execute_result"
    }
   ],
   "source": [
    "p.shape"
   ]
  },
  {
   "cell_type": "code",
   "execution_count": 79,
   "metadata": {
    "scrolled": false
   },
   "outputs": [
    {
     "data": {
      "text/plain": [
       "array([[9, 1, 2, 9, 5, 1, 1, 3, 9, 3],\n",
       "       [1, 7, 9, 8, 7, 9, 9, 5, 8, 3],\n",
       "       [7, 6, 3, 2, 1, 2, 2, 7, 8, 8],\n",
       "       [2, 1, 3, 1, 2, 4, 9, 9, 3, 2],\n",
       "       [8, 4, 4, 6, 4, 4, 6, 3, 8, 4],\n",
       "       [9, 2, 7, 9, 6, 4, 6, 9, 9, 1],\n",
       "       [3, 3, 5, 9, 2, 7, 8, 6, 7, 8],\n",
       "       [1, 4, 1, 2, 6, 5, 3, 2, 7, 5],\n",
       "       [7, 6, 5, 1, 8, 4, 7, 2, 3, 2],\n",
       "       [3, 9, 6, 3, 4, 6, 5, 7, 4, 7]])"
      ]
     },
     "execution_count": 79,
     "metadata": {},
     "output_type": "execute_result"
    }
   ],
   "source": [
    "x=p.reshape(10,10)\n",
    "x"
   ]
  },
  {
   "cell_type": "code",
   "execution_count": 80,
   "metadata": {
    "scrolled": true
   },
   "outputs": [
    {
     "data": {
      "text/plain": [
       "(10, 10)"
      ]
     },
     "execution_count": 80,
     "metadata": {},
     "output_type": "execute_result"
    }
   ],
   "source": [
    "x.shape"
   ]
  },
  {
   "cell_type": "code",
   "execution_count": 81,
   "metadata": {},
   "outputs": [
    {
     "data": {
      "text/plain": [
       "array([[9, 1, 2, 9],\n",
       "       [5, 1, 1, 3],\n",
       "       [9, 3, 1, 7],\n",
       "       [9, 8, 7, 9],\n",
       "       [9, 5, 8, 3],\n",
       "       [7, 6, 3, 2],\n",
       "       [1, 2, 2, 7],\n",
       "       [8, 8, 2, 1],\n",
       "       [3, 1, 2, 4],\n",
       "       [9, 9, 3, 2],\n",
       "       [8, 4, 4, 6],\n",
       "       [4, 4, 6, 3],\n",
       "       [8, 4, 9, 2],\n",
       "       [7, 9, 6, 4],\n",
       "       [6, 9, 9, 1],\n",
       "       [3, 3, 5, 9],\n",
       "       [2, 7, 8, 6],\n",
       "       [7, 8, 1, 4],\n",
       "       [1, 2, 6, 5],\n",
       "       [3, 2, 7, 5],\n",
       "       [7, 6, 5, 1],\n",
       "       [8, 4, 7, 2],\n",
       "       [3, 2, 3, 9],\n",
       "       [6, 3, 4, 6],\n",
       "       [5, 7, 4, 7]])"
      ]
     },
     "execution_count": 81,
     "metadata": {},
     "output_type": "execute_result"
    }
   ],
   "source": [
    "p.reshape(25,4)"
   ]
  },
  {
   "cell_type": "code",
   "execution_count": 82,
   "metadata": {},
   "outputs": [],
   "source": [
    "##### Examples"
   ]
  },
  {
   "cell_type": "code",
   "execution_count": 83,
   "metadata": {},
   "outputs": [
    {
     "data": {
      "text/plain": [
       "array([[48, 29, 79, 50, 42],\n",
       "       [53, 46, 66, 82, 54],\n",
       "       [93, 61, 75, 97, 38],\n",
       "       [50, 91, 28, 36, 99],\n",
       "       [40, 13, 96, 54, 24],\n",
       "       [37, 22, 39, 95, 42],\n",
       "       [40, 39, 20, 89, 68],\n",
       "       [12, 97, 45, 44, 41],\n",
       "       [66, 86, 11, 62, 30],\n",
       "       [37, 33, 80, 43, 69]])"
      ]
     },
     "execution_count": 83,
     "metadata": {},
     "output_type": "execute_result"
    }
   ],
   "source": [
    "p=np.random.randint(10,100,(10,5))\n",
    "p"
   ]
  },
  {
   "cell_type": "code",
   "execution_count": 84,
   "metadata": {
    "scrolled": true
   },
   "outputs": [
    {
     "data": {
      "text/plain": [
       "array([48, 29, 79, 50, 42])"
      ]
     },
     "execution_count": 84,
     "metadata": {},
     "output_type": "execute_result"
    }
   ],
   "source": [
    "p[0]"
   ]
  },
  {
   "cell_type": "code",
   "execution_count": 85,
   "metadata": {},
   "outputs": [
    {
     "data": {
      "text/plain": [
       "array([  0,  79, 132, 186,  63, 103, 142, 145, 167,  50])"
      ]
     },
     "execution_count": 85,
     "metadata": {},
     "output_type": "execute_result"
    }
   ],
   "source": [
    "abs(p[0]-p).sum(axis=1)"
   ]
  },
  {
   "cell_type": "code",
   "execution_count": 86,
   "metadata": {
    "scrolled": true
   },
   "outputs": [
    {
     "data": {
      "text/plain": [
       "8"
      ]
     },
     "execution_count": 86,
     "metadata": {},
     "output_type": "execute_result"
    }
   ],
   "source": [
    "abs(p[0]-p).sum(axis=1)[1:].argmin()"
   ]
  },
  {
   "cell_type": "code",
   "execution_count": 88,
   "metadata": {},
   "outputs": [
    {
     "data": {
      "text/plain": [
       "array([[19, 11,  6],\n",
       "       [ 4, 18, 13],\n",
       "       [ 5,  7, 16],\n",
       "       ...,\n",
       "       [17, 12, 11],\n",
       "       [11, 16, 14],\n",
       "       [ 1, 10, 13]])"
      ]
     },
     "execution_count": 88,
     "metadata": {},
     "output_type": "execute_result"
    }
   ],
   "source": [
    "p=np.random.randint(1,20,(1000,3))\n",
    "p"
   ]
  },
  {
   "cell_type": "code",
   "execution_count": 89,
   "metadata": {},
   "outputs": [
    {
     "data": {
      "text/plain": [
       "(1000, 3)"
      ]
     },
     "execution_count": 89,
     "metadata": {},
     "output_type": "execute_result"
    }
   ],
   "source": [
    "p.shape"
   ]
  },
  {
   "cell_type": "code",
   "execution_count": 90,
   "metadata": {},
   "outputs": [
    {
     "data": {
      "text/plain": [
       "array([ 8, 23, 26, 19, 18, 14, 13, 14,  5, 13,  0, 18, 23, 16, 17, 17, 15,\n",
       "       18,  5, 25,  5, 29,  7, 12, 20, 14, 15, 27, 10, 27, 25, 13, 12, 12,\n",
       "       25, 27, 20, 13, 20, 27, 13, 28, 17, 19, 13, 21, 15, 17, 19, 30, 12,\n",
       "       25, 16, 19,  9, 16, 23, 12, 12, 10,  6, 26, 29, 13, 18, 28, 25, 18,\n",
       "       31, 14,  7, 14, 14, 12, 18,  8, 20, 22, 12, 12, 13, 18, 31, 24, 27,\n",
       "       11,  7, 21, 18, 15, 17, 16,  9, 21, 17, 15,  9, 23, 23,  7, 12, 22,\n",
       "       18, 13,  8, 20, 23,  9, 11, 25, 12, 24, 20, 23, 16, 14, 26, 20, 12,\n",
       "       25, 10, 18, 15, 13, 10, 20, 27, 17, 10,  7, 18, 38, 16,  9, 10,  8,\n",
       "       21, 12,  8,  4,  8, 12,  4, 16, 25,  7, 21, 24, 20,  6, 35, 19,  9,\n",
       "        9, 21, 20, 21, 23, 21, 11,  9, 25, 24, 28, 16, 25, 18, 22, 18, 15,\n",
       "       12, 21, 25, 15, 16, 19, 28, 13, 17, 15, 11, 18, 16, 20, 10, 10, 19,\n",
       "        8, 17,  8, 29, 33, 17, 15,  7, 15, 13, 21,  7, 12, 12, 15, 15, 14,\n",
       "       12, 17, 16, 17, 24, 15, 18, 12, 26, 22, 21, 34, 26, 18, 30, 25, 22,\n",
       "       13, 22, 22, 18, 21, 32, 17, 16, 19, 19, 11, 18,  9, 15, 17, 13,  9,\n",
       "       32, 13, 15, 10, 26, 20, 16, 14, 17, 11,  8, 18, 20, 12, 17, 24, 20,\n",
       "       12, 27, 15, 24, 11, 20, 18, 14, 24, 17, 21, 10, 11,  8, 18, 23, 20,\n",
       "       10, 10, 13, 22, 20, 18, 18, 26, 27, 19,  6, 20, 14,  6, 26, 21, 15,\n",
       "       12, 32, 19, 20, 29, 13,  8, 21, 20,  8, 24,  8, 20, 11, 22, 20, 12,\n",
       "       27, 10, 23, 15, 25, 11, 19, 21, 15, 10, 16, 25, 12,  5, 13, 16, 24,\n",
       "        5, 28, 25, 27, 14, 14, 19, 24, 15,  8, 14, 16, 10, 14, 17, 11, 11,\n",
       "        9, 15, 17, 22, 14, 13,  7, 15, 13, 20, 15, 18, 11, 12, 20, 21, 22,\n",
       "       19,  5, 24, 16, 10, 16, 13, 10, 26, 10,  9, 15, 11, 27, 24, 13, 12,\n",
       "       16, 12, 36, 16, 20, 25, 16, 24, 12, 14, 14, 14, 15, 16, 26, 17,  6,\n",
       "       24,  6,  9, 15, 28, 17, 16, 17, 28, 21, 18, 18, 18, 13,  9, 17, 23,\n",
       "       27, 29,  3, 24, 15, 15, 23, 12, 17, 26, 22, 15, 11,  8, 17,  9, 20,\n",
       "       22, 12, 15, 21, 10, 15, 19, 20,  9, 21, 15,  7, 14, 18, 16, 12, 19,\n",
       "       10, 12, 22, 24, 13, 17, 13, 19, 27, 19, 16, 26, 10, 19, 10, 10, 11,\n",
       "        4, 19, 18, 15, 13, 17, 15, 11, 21, 17, 18, 16,  6, 12, 23, 12, 15,\n",
       "        5, 21, 19, 28, 18,  9, 17, 17, 18, 10, 24, 10, 11, 14, 22,  9,  8,\n",
       "       14, 13, 22, 33, 23,  4, 22, 25,  1, 13, 18,  9, 28, 24, 20, 17, 17,\n",
       "       14,  8, 18, 15, 18, 16, 19, 20, 28, 12, 17, 18, 27, 14, 24, 14, 19,\n",
       "       16, 10, 12, 17, 13, 27, 17, 16, 23, 26,  9, 16,  7, 14, 14, 26, 21,\n",
       "       38,  8, 12,  7, 29, 15, 10, 24,  8, 16, 14, 26, 18, 17, 29, 16, 32,\n",
       "        6, 21, 22, 15, 15, 20, 18, 18, 28, 21, 15, 19, 13,  5,  8, 27, 18,\n",
       "       33, 15, 13, 12, 16, 20,  8, 27, 16, 13, 19, 14, 11, 15, 24, 22, 21,\n",
       "       15, 12, 18, 18, 10, 19,  8, 22, 22, 23, 13, 10, 20, 17,  7, 31, 10,\n",
       "        5, 11, 14,  6, 15,  2, 31, 11, 27, 18, 13, 11, 12, 23, 24, 31, 30,\n",
       "       31, 20, 20,  9, 19, 13, 34, 25, 14, 35,  6,  7, 19, 24, 11, 24, 23,\n",
       "       10, 18,  5, 12, 14, 13, 21,  5, 29, 30, 16,  7,  4, 32, 24, 13, 26,\n",
       "       20, 33, 18, 18, 25,  9, 17, 10, 19, 22, 27, 15, 25, 18,  6, 20, 16,\n",
       "        7, 22, 15,  6, 27, 24, 23, 21,  5, 19, 12, 14, 23, 18, 17, 15, 18,\n",
       "       12, 10, 24, 13, 14, 12, 12,  7, 20, 27, 28, 10, 24, 29, 13, 15, 16,\n",
       "       16, 17, 18, 11, 20, 15, 21, 21, 16, 18,  9, 19, 19, 14, 18, 10,  7,\n",
       "       23, 12, 11, 18,  3,  5, 27, 20, 23, 27, 14, 22, 21, 11, 18, 19, 12,\n",
       "       11, 25, 16, 24, 14, 20, 19,  8, 17,  7, 28, 12, 14, 14, 21, 10, 25,\n",
       "       12, 11, 14, 16, 21, 21, 10, 18, 18, 12, 13, 15, 24,  7, 34, 13, 19,\n",
       "       15, 21, 23, 13, 26, 15, 25, 23, 11, 23,  5, 26,  8, 16, 13, 32, 14,\n",
       "       17, 23, 29, 13, 13, 10, 17, 11,  5, 31, 14, 13, 28, 17, 22,  9, 20,\n",
       "       20, 13, 26, 22, 12, 21, 10, 19, 10, 20,  7, 11, 29, 26, 15, 24, 24,\n",
       "       11, 11,  5, 28, 10, 12, 14, 27, 26, 32, 18, 13, 16, 12, 14, 18,  9,\n",
       "       13, 21,  9, 30,  3, 11, 12, 12,  9, 14, 24, 12, 10, 10, 25, 38, 11,\n",
       "        9, 22, 23, 14, 18, 10, 21, 15, 20, 27, 24, 27, 17,  8, 14, 15, 15,\n",
       "       15, 20, 16, 29, 15, 22, 19, 19, 23, 13, 16, 16, 26, 11,  7, 34, 12,\n",
       "        8, 20, 32, 14, 18, 14, 20, 18, 22, 16, 11,  6,  9, 12, 22, 14,  9,\n",
       "       34, 19,  8,  8, 14, 26, 12, 22, 16,  9, 13, 12, 28, 15, 22, 26, 19,\n",
       "       23, 18, 25, 16, 21, 20, 14, 16, 21, 28, 23,  5, 25, 13, 12, 18, 11,\n",
       "       14, 14, 19, 16, 14, 22,  7, 30, 21, 25, 12, 27, 18, 23, 18, 14, 27,\n",
       "       18,  8,  8, 18, 31, 23, 13, 14, 25, 22, 29, 16, 13,  3, 17, 16, 13,\n",
       "       15, 24, 33,  7, 15, 26, 10, 12,  8, 12, 18, 10, 15, 24])"
      ]
     },
     "execution_count": 90,
     "metadata": {},
     "output_type": "execute_result"
    }
   ],
   "source": [
    "abs(p[10]-p).sum(axis=1)"
   ]
  },
  {
   "cell_type": "code",
   "execution_count": 91,
   "metadata": {},
   "outputs": [
    {
     "data": {
      "text/plain": [
       "1000"
      ]
     },
     "execution_count": 91,
     "metadata": {},
     "output_type": "execute_result"
    }
   ],
   "source": [
    "p.shape[0]"
   ]
  },
  {
   "cell_type": "code",
   "execution_count": 92,
   "metadata": {},
   "outputs": [
    {
     "data": {
      "text/plain": [
       "3"
      ]
     },
     "execution_count": 92,
     "metadata": {},
     "output_type": "execute_result"
    }
   ],
   "source": [
    "p.shape[1]"
   ]
  },
  {
   "cell_type": "markdown",
   "metadata": {},
   "source": [
    "Experiment : An activity designed towards capturing the data \n",
    "Population : All the observations that are captured as a part of this experiement \n",
    "Sample : Subset of population and behaves like populations \n",
    "Bias : An aritificial constrain we are introducing while sampling \n",
    "Descirbes Data ( Descriptive Staistics)\n",
    "    1. Mean\n",
    "        1.a A.M \n",
    "        1.b G.M\n",
    "        1.c H.M\n",
    "    2. Mode ()\n",
    "    3. Median\n",
    "    4. Std Deviation \n",
    "    5. Variance "
   ]
  },
  {
   "cell_type": "code",
   "execution_count": 97,
   "metadata": {},
   "outputs": [
    {
     "data": {
      "text/plain": [
       "array([90, 61, 43, 63, 75])"
      ]
     },
     "execution_count": 97,
     "metadata": {},
     "output_type": "execute_result"
    }
   ],
   "source": [
    "p=np.random.randint(10,100,5)\n",
    "p"
   ]
  },
  {
   "cell_type": "code",
   "execution_count": 98,
   "metadata": {},
   "outputs": [
    {
     "data": {
      "text/plain": [
       "332"
      ]
     },
     "execution_count": 98,
     "metadata": {},
     "output_type": "execute_result"
    }
   ],
   "source": [
    "sum(p)"
   ]
  },
  {
   "cell_type": "code",
   "execution_count": 99,
   "metadata": {},
   "outputs": [
    {
     "data": {
      "text/plain": [
       "5"
      ]
     },
     "execution_count": 99,
     "metadata": {},
     "output_type": "execute_result"
    }
   ],
   "source": [
    "len(p)"
   ]
  },
  {
   "cell_type": "code",
   "execution_count": 100,
   "metadata": {},
   "outputs": [
    {
     "data": {
      "text/plain": [
       "66.4"
      ]
     },
     "execution_count": 100,
     "metadata": {},
     "output_type": "execute_result"
    }
   ],
   "source": [
    "mean=sum(p)/len(p)\n",
    "mean"
   ]
  },
  {
   "cell_type": "code",
   "execution_count": 101,
   "metadata": {},
   "outputs": [
    {
     "data": {
      "text/plain": [
       "63.0"
      ]
     },
     "execution_count": 101,
     "metadata": {},
     "output_type": "execute_result"
    }
   ],
   "source": [
    "median=np.median(p)\n",
    "median"
   ]
  },
  {
   "cell_type": "code",
   "execution_count": 102,
   "metadata": {},
   "outputs": [
    {
     "data": {
      "text/plain": [
       "2.842170943040401e-14"
      ]
     },
     "execution_count": 102,
     "metadata": {},
     "output_type": "execute_result"
    }
   ],
   "source": [
    "abs((p-mean).sum())"
   ]
  },
  {
   "cell_type": "code",
   "execution_count": 103,
   "metadata": {},
   "outputs": [
    {
     "data": {
      "text/plain": [
       "17.0"
      ]
     },
     "execution_count": 103,
     "metadata": {},
     "output_type": "execute_result"
    }
   ],
   "source": [
    "abs((p-median).sum())"
   ]
  },
  {
   "cell_type": "markdown",
   "metadata": {},
   "source": [
    "Set 7"
   ]
  },
  {
   "cell_type": "code",
   "execution_count": 104,
   "metadata": {},
   "outputs": [
    {
     "data": {
      "text/plain": [
       "array([70, 15, 19, 61, 58, 12, 31, 48, 75, 77, 61, 26, 61, 87, 85, 46, 56,\n",
       "       85, 67, 53])"
      ]
     },
     "execution_count": 104,
     "metadata": {},
     "output_type": "execute_result"
    }
   ],
   "source": [
    "p=np.random.randint(10,100,20)\n",
    "p"
   ]
  },
  {
   "cell_type": "code",
   "execution_count": 105,
   "metadata": {
    "scrolled": true
   },
   "outputs": [
    {
     "data": {
      "text/plain": [
       "array([ True, False, False,  True,  True, False, False, False,  True,\n",
       "        True,  True, False,  True,  True,  True, False,  True,  True,\n",
       "        True,  True])"
      ]
     },
     "execution_count": 105,
     "metadata": {},
     "output_type": "execute_result"
    }
   ],
   "source": [
    "p>50"
   ]
  },
  {
   "cell_type": "code",
   "execution_count": 106,
   "metadata": {},
   "outputs": [
    {
     "data": {
      "text/plain": [
       "array([70, 61, 58, 75, 77, 61, 61, 87, 85, 56, 85, 67, 53])"
      ]
     },
     "execution_count": 106,
     "metadata": {},
     "output_type": "execute_result"
    }
   ],
   "source": [
    "p[p>50]\n"
   ]
  },
  {
   "cell_type": "code",
   "execution_count": 107,
   "metadata": {},
   "outputs": [
    {
     "data": {
      "text/plain": [
       "array([15, 19, 12, 31, 48, 26, 46])"
      ]
     },
     "execution_count": 107,
     "metadata": {},
     "output_type": "execute_result"
    }
   ],
   "source": [
    "p[p<50]"
   ]
  },
  {
   "cell_type": "markdown",
   "metadata": {},
   "source": [
    "K Means"
   ]
  },
  {
   "cell_type": "code",
   "execution_count": 108,
   "metadata": {},
   "outputs": [],
   "source": [
    "p=np.random.randint(10,100,(1000,5))"
   ]
  },
  {
   "cell_type": "code",
   "execution_count": 109,
   "metadata": {},
   "outputs": [
    {
     "data": {
      "text/plain": [
       "(array([11, 74, 39, 48, 12]), array([91, 47, 15, 62, 77]))"
      ]
     },
     "execution_count": 109,
     "metadata": {},
     "output_type": "execute_result"
    }
   ],
   "source": [
    "p[363],p[786]"
   ]
  },
  {
   "cell_type": "code",
   "execution_count": 110,
   "metadata": {},
   "outputs": [],
   "source": [
    "c1=p[363]"
   ]
  },
  {
   "cell_type": "code",
   "execution_count": 111,
   "metadata": {},
   "outputs": [],
   "source": [
    "c2=p[786]"
   ]
  },
  {
   "cell_type": "code",
   "execution_count": 112,
   "metadata": {},
   "outputs": [],
   "source": [
    "d1=abs(c1-p).sum(axis=1)"
   ]
  },
  {
   "cell_type": "code",
   "execution_count": 113,
   "metadata": {},
   "outputs": [],
   "source": [
    "d2=abs(c2-p).sum(axis=1)"
   ]
  },
  {
   "cell_type": "code",
   "execution_count": 114,
   "metadata": {},
   "outputs": [
    {
     "data": {
      "text/plain": [
       "(439, 5)"
      ]
     },
     "execution_count": 114,
     "metadata": {},
     "output_type": "execute_result"
    }
   ],
   "source": [
    "p[d1<d2].shape"
   ]
  },
  {
   "cell_type": "code",
   "execution_count": 115,
   "metadata": {},
   "outputs": [
    {
     "data": {
      "text/plain": [
       "(550, 5)"
      ]
     },
     "execution_count": 115,
     "metadata": {},
     "output_type": "execute_result"
    }
   ],
   "source": [
    "p[d1>d2].shape"
   ]
  },
  {
   "cell_type": "markdown",
   "metadata": {},
   "source": [
    "Set 8"
   ]
  },
  {
   "cell_type": "code",
   "execution_count": 116,
   "metadata": {},
   "outputs": [],
   "source": [
    "p=np.random.randint(0,10,100)"
   ]
  },
  {
   "cell_type": "code",
   "execution_count": 117,
   "metadata": {},
   "outputs": [
    {
     "data": {
      "text/plain": [
       "4.41"
      ]
     },
     "execution_count": 117,
     "metadata": {},
     "output_type": "execute_result"
    }
   ],
   "source": [
    "p.mean()"
   ]
  },
  {
   "cell_type": "code",
   "execution_count": 118,
   "metadata": {},
   "outputs": [
    {
     "data": {
      "text/plain": [
       "2.9701683453972767"
      ]
     },
     "execution_count": 118,
     "metadata": {},
     "output_type": "execute_result"
    }
   ],
   "source": [
    "p.std()"
   ]
  },
  {
   "cell_type": "code",
   "execution_count": 119,
   "metadata": {},
   "outputs": [
    {
     "data": {
      "text/plain": [
       "8.821899999999998"
      ]
     },
     "execution_count": 119,
     "metadata": {},
     "output_type": "execute_result"
    }
   ],
   "source": [
    "p.var()"
   ]
  }
 ],
 "metadata": {
  "kernelspec": {
   "display_name": "Python 3",
   "language": "python",
   "name": "python3"
  },
  "language_info": {
   "codemirror_mode": {
    "name": "ipython",
    "version": 3
   },
   "file_extension": ".py",
   "mimetype": "text/x-python",
   "name": "python",
   "nbconvert_exporter": "python",
   "pygments_lexer": "ipython3",
   "version": "3.7.3"
  }
 },
 "nbformat": 4,
 "nbformat_minor": 2
}
